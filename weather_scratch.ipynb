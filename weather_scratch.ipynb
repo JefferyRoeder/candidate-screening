{
 "cells": [
  {
   "cell_type": "code",
   "execution_count": 2,
   "metadata": {},
   "outputs": [],
   "source": [
    "import pandas as pd\n",
    "import numpy as np\n",
    "import requests\n",
    "import json"
   ]
  },
  {
   "cell_type": "code",
   "execution_count": 3,
   "metadata": {},
   "outputs": [],
   "source": [
    "df = pd.read_csv('candidate-screening/dataset.csv')"
   ]
  },
  {
   "cell_type": "code",
   "execution_count": 4,
   "metadata": {},
   "outputs": [
    {
     "data": {
      "text/html": [
       "<div>\n",
       "<style scoped>\n",
       "    .dataframe tbody tr th:only-of-type {\n",
       "        vertical-align: middle;\n",
       "    }\n",
       "\n",
       "    .dataframe tbody tr th {\n",
       "        vertical-align: top;\n",
       "    }\n",
       "\n",
       "    .dataframe thead th {\n",
       "        text-align: right;\n",
       "    }\n",
       "</style>\n",
       "<table border=\"1\" class=\"dataframe\">\n",
       "  <thead>\n",
       "    <tr style=\"text-align: right;\">\n",
       "      <th></th>\n",
       "      <th>address</th>\n",
       "      <th>city</th>\n",
       "      <th>state</th>\n",
       "      <th>zip</th>\n",
       "      <th>email</th>\n",
       "      <th>first_name</th>\n",
       "      <th>last_name</th>\n",
       "    </tr>\n",
       "  </thead>\n",
       "  <tbody>\n",
       "    <tr>\n",
       "      <th>0</th>\n",
       "      <td>7638 Locust St.</td>\n",
       "      <td>Wilmington</td>\n",
       "      <td>MA</td>\n",
       "      <td>1887</td>\n",
       "      <td>hllam@yahoo.com</td>\n",
       "      <td>Cassidy</td>\n",
       "      <td>Horn</td>\n",
       "    </tr>\n",
       "    <tr>\n",
       "      <th>1</th>\n",
       "      <td>348 Foxrun Avenue</td>\n",
       "      <td>Sandusky</td>\n",
       "      <td>OH</td>\n",
       "      <td>44870</td>\n",
       "      <td>campware@outlook.com</td>\n",
       "      <td>Angela</td>\n",
       "      <td>Bennett</td>\n",
       "    </tr>\n",
       "    <tr>\n",
       "      <th>2</th>\n",
       "      <td>94 Lake Rd.</td>\n",
       "      <td>Leominster</td>\n",
       "      <td>MA</td>\n",
       "      <td>1453</td>\n",
       "      <td>aracne@verizon.net</td>\n",
       "      <td>Lucille</td>\n",
       "      <td>Hoover</td>\n",
       "    </tr>\n",
       "    <tr>\n",
       "      <th>3</th>\n",
       "      <td>154 Gates St.</td>\n",
       "      <td>Titusville</td>\n",
       "      <td>FL</td>\n",
       "      <td>32780</td>\n",
       "      <td>jfreedma@verizon.net</td>\n",
       "      <td>Brogan</td>\n",
       "      <td>Villa</td>\n",
       "    </tr>\n",
       "    <tr>\n",
       "      <th>4</th>\n",
       "      <td>41 West Myrtle St.</td>\n",
       "      <td>Hernando</td>\n",
       "      <td>MS</td>\n",
       "      <td>38632</td>\n",
       "      <td>sinclair@me.com</td>\n",
       "      <td>Kristin</td>\n",
       "      <td>Ramirez</td>\n",
       "    </tr>\n",
       "    <tr>\n",
       "      <th>...</th>\n",
       "      <td>...</td>\n",
       "      <td>...</td>\n",
       "      <td>...</td>\n",
       "      <td>...</td>\n",
       "      <td>...</td>\n",
       "      <td>...</td>\n",
       "      <td>...</td>\n",
       "    </tr>\n",
       "    <tr>\n",
       "      <th>195</th>\n",
       "      <td>27 Vine Court</td>\n",
       "      <td>Moorhead</td>\n",
       "      <td>MN</td>\n",
       "      <td>56560</td>\n",
       "      <td>evilopie@att.net</td>\n",
       "      <td>Asa</td>\n",
       "      <td>Lynn</td>\n",
       "    </tr>\n",
       "    <tr>\n",
       "      <th>196</th>\n",
       "      <td>72 East Miles Ave.</td>\n",
       "      <td>Kansas City</td>\n",
       "      <td>MO</td>\n",
       "      <td>64151</td>\n",
       "      <td>kudra@verizon.net</td>\n",
       "      <td>Deacon</td>\n",
       "      <td>Garrison</td>\n",
       "    </tr>\n",
       "    <tr>\n",
       "      <th>197</th>\n",
       "      <td>7697 West Fifth Ave.</td>\n",
       "      <td>Ossining</td>\n",
       "      <td>NY</td>\n",
       "      <td>10562</td>\n",
       "      <td>pdbaby@hotmail.com</td>\n",
       "      <td>Stephen</td>\n",
       "      <td>Barron</td>\n",
       "    </tr>\n",
       "    <tr>\n",
       "      <th>198</th>\n",
       "      <td>7617 High Lane</td>\n",
       "      <td>Chillicothe</td>\n",
       "      <td>OH</td>\n",
       "      <td>45601</td>\n",
       "      <td>library@yahoo.com</td>\n",
       "      <td>Daniela</td>\n",
       "      <td>Byrd</td>\n",
       "    </tr>\n",
       "    <tr>\n",
       "      <th>199</th>\n",
       "      <td>9151 Woodsman St.</td>\n",
       "      <td>Elk Grove Village</td>\n",
       "      <td>IL</td>\n",
       "      <td>60007</td>\n",
       "      <td>fatelk@icloud.com</td>\n",
       "      <td>Maurice</td>\n",
       "      <td>Blair</td>\n",
       "    </tr>\n",
       "  </tbody>\n",
       "</table>\n",
       "<p>200 rows × 7 columns</p>\n",
       "</div>"
      ],
      "text/plain": [
       "                  address               city state    zip  \\\n",
       "0         7638 Locust St.         Wilmington    MA   1887   \n",
       "1       348 Foxrun Avenue           Sandusky    OH  44870   \n",
       "2             94 Lake Rd.         Leominster    MA   1453   \n",
       "3           154 Gates St.         Titusville    FL  32780   \n",
       "4      41 West Myrtle St.           Hernando    MS  38632   \n",
       "..                    ...                ...   ...    ...   \n",
       "195         27 Vine Court           Moorhead    MN  56560   \n",
       "196    72 East Miles Ave.        Kansas City    MO  64151   \n",
       "197  7697 West Fifth Ave.           Ossining    NY  10562   \n",
       "198        7617 High Lane        Chillicothe    OH  45601   \n",
       "199     9151 Woodsman St.  Elk Grove Village    IL  60007   \n",
       "\n",
       "                    email first_name last_name  \n",
       "0         hllam@yahoo.com    Cassidy      Horn  \n",
       "1    campware@outlook.com     Angela   Bennett  \n",
       "2      aracne@verizon.net    Lucille    Hoover  \n",
       "3    jfreedma@verizon.net     Brogan     Villa  \n",
       "4         sinclair@me.com    Kristin   Ramirez  \n",
       "..                    ...        ...       ...  \n",
       "195      evilopie@att.net        Asa      Lynn  \n",
       "196     kudra@verizon.net     Deacon  Garrison  \n",
       "197    pdbaby@hotmail.com    Stephen    Barron  \n",
       "198     library@yahoo.com    Daniela      Byrd  \n",
       "199     fatelk@icloud.com    Maurice     Blair  \n",
       "\n",
       "[200 rows x 7 columns]"
      ]
     },
     "execution_count": 4,
     "metadata": {},
     "output_type": "execute_result"
    }
   ],
   "source": [
    "df"
   ]
  },
  {
   "cell_type": "code",
   "execution_count": 27,
   "metadata": {},
   "outputs": [],
   "source": [
    "api_key = \"0632814556ce87710090d224cd38e407\""
   ]
  },
  {
   "cell_type": "code",
   "execution_count": null,
   "metadata": {},
   "outputs": [],
   "source": []
  },
  {
   "cell_type": "code",
   "execution_count": 28,
   "metadata": {},
   "outputs": [],
   "source": [
    "base_url = \"http://api.openweathermap.org/data/2.5/weather?\""
   ]
  },
  {
   "cell_type": "code",
   "execution_count": 29,
   "metadata": {},
   "outputs": [
    {
     "name": "stdout",
     "output_type": "stream",
     "text": [
      "Enter city name : Birim\n"
     ]
    }
   ],
   "source": [
    "city_name = input(\"Enter city name : \")"
   ]
  },
  {
   "cell_type": "code",
   "execution_count": 30,
   "metadata": {},
   "outputs": [],
   "source": [
    "complete_url = base_url + \"appid=\" + api_key + \"&q=\" + city_name"
   ]
  },
  {
   "cell_type": "code",
   "execution_count": 31,
   "metadata": {},
   "outputs": [],
   "source": [
    "response = requests.get(complete_url)"
   ]
  },
  {
   "cell_type": "code",
   "execution_count": 32,
   "metadata": {},
   "outputs": [],
   "source": [
    "x = response.json()"
   ]
  },
  {
   "cell_type": "code",
   "execution_count": 34,
   "metadata": {},
   "outputs": [
    {
     "data": {
      "text/plain": [
       "200"
      ]
     },
     "execution_count": 34,
     "metadata": {},
     "output_type": "execute_result"
    }
   ],
   "source": [
    "if x[\"cod\"] != \"404\": \n",
    "  \n",
    "    # store the value of \"main\", basic weather data \n",
    "    # key in variable y \n",
    "    y = x[\"main\"] \n",
    "  \n",
    "    # store the temp \n",
    "    # to the \"temp\" key of y \n",
    "    current_temperature = y[\"temp\"] \n",
    "  \n",
    "    # store the value of \"weather\" \n",
    "    # key in variable z \n",
    "    z = x[\"weather\"] \n",
    "  \n",
    "    # store the value corresponding  \n",
    "    # to the \"description\" key at  \n",
    "    # the 0th index of z \n",
    "    weather_description = z[0][\"description\"] \n",
    "  \n",
    "    # print following values \n",
    "    print(\" Temperature (in kelvin unit) = \" +\n",
    "                    str(current_temperature) + \n",
    "          \"\\n atmospheric pressure (in hPa unit) = \" +\n",
    "                    str(current_pressure) +\n",
    "          \"\\n humidity (in percentage) = \" +\n",
    "                    str(current_humidiy) +\n",
    "          \"\\n description = \" +\n",
    "                    str(weather_description)) \n",
    "  \n",
    "else: \n",
    "    print(\" City Not Found \")\n",
    "    "
   ]
  },
  {
   "cell_type": "code",
   "execution_count": 37,
   "metadata": {},
   "outputs": [],
   "source": [
    "z = x['weather']"
   ]
  },
  {
   "cell_type": "code",
   "execution_count": 38,
   "metadata": {},
   "outputs": [
    {
     "data": {
      "text/plain": [
       "'clear sky'"
      ]
     },
     "execution_count": 38,
     "metadata": {},
     "output_type": "execute_result"
    }
   ],
   "source": [
    "z[0]['description']"
   ]
  },
  {
   "cell_type": "code",
   "execution_count": 40,
   "metadata": {},
   "outputs": [],
   "source": [
    "city_list= pd.read_json('candidate-screening/city_list.json')"
   ]
  },
  {
   "cell_type": "code",
   "execution_count": 41,
   "metadata": {},
   "outputs": [
    {
     "data": {
      "text/html": [
       "<div>\n",
       "<style scoped>\n",
       "    .dataframe tbody tr th:only-of-type {\n",
       "        vertical-align: middle;\n",
       "    }\n",
       "\n",
       "    .dataframe tbody tr th {\n",
       "        vertical-align: top;\n",
       "    }\n",
       "\n",
       "    .dataframe thead th {\n",
       "        text-align: right;\n",
       "    }\n",
       "</style>\n",
       "<table border=\"1\" class=\"dataframe\">\n",
       "  <thead>\n",
       "    <tr style=\"text-align: right;\">\n",
       "      <th></th>\n",
       "      <th>id</th>\n",
       "      <th>name</th>\n",
       "      <th>country</th>\n",
       "      <th>coord</th>\n",
       "    </tr>\n",
       "  </thead>\n",
       "  <tbody>\n",
       "    <tr>\n",
       "      <th>0</th>\n",
       "      <td>707860</td>\n",
       "      <td>Hurzuf</td>\n",
       "      <td>UA</td>\n",
       "      <td>{'lon': 34.283333, 'lat': 44.549999}</td>\n",
       "    </tr>\n",
       "    <tr>\n",
       "      <th>1</th>\n",
       "      <td>519188</td>\n",
       "      <td>Novinki</td>\n",
       "      <td>RU</td>\n",
       "      <td>{'lon': 37.666668, 'lat': 55.683334}</td>\n",
       "    </tr>\n",
       "    <tr>\n",
       "      <th>2</th>\n",
       "      <td>1283378</td>\n",
       "      <td>Gorkhā</td>\n",
       "      <td>NP</td>\n",
       "      <td>{'lon': 84.633331, 'lat': 28}</td>\n",
       "    </tr>\n",
       "    <tr>\n",
       "      <th>3</th>\n",
       "      <td>1270260</td>\n",
       "      <td>State of Haryāna</td>\n",
       "      <td>IN</td>\n",
       "      <td>{'lon': 76, 'lat': 29}</td>\n",
       "    </tr>\n",
       "    <tr>\n",
       "      <th>4</th>\n",
       "      <td>708546</td>\n",
       "      <td>Holubynka</td>\n",
       "      <td>UA</td>\n",
       "      <td>{'lon': 33.900002, 'lat': 44.599998}</td>\n",
       "    </tr>\n",
       "    <tr>\n",
       "      <th>...</th>\n",
       "      <td>...</td>\n",
       "      <td>...</td>\n",
       "      <td>...</td>\n",
       "      <td>...</td>\n",
       "    </tr>\n",
       "    <tr>\n",
       "      <th>209574</th>\n",
       "      <td>2613685</td>\n",
       "      <td>Skodsborg</td>\n",
       "      <td>DK</td>\n",
       "      <td>{'lon': 12.57324, 'lat': 55.822498}</td>\n",
       "    </tr>\n",
       "    <tr>\n",
       "      <th>209575</th>\n",
       "      <td>2613357</td>\n",
       "      <td>Smidstrup</td>\n",
       "      <td>DK</td>\n",
       "      <td>{'lon': 12.55787, 'lat': 55.865688}</td>\n",
       "    </tr>\n",
       "    <tr>\n",
       "      <th>209576</th>\n",
       "      <td>6460975</td>\n",
       "      <td>Rastnik</td>\n",
       "      <td>BG</td>\n",
       "      <td>{'lon': 25.283331, 'lat': 41.400002}</td>\n",
       "    </tr>\n",
       "    <tr>\n",
       "      <th>209577</th>\n",
       "      <td>727762</td>\n",
       "      <td>Rastnik</td>\n",
       "      <td>BG</td>\n",
       "      <td>{'lon': 25.283331, 'lat': 41.400002}</td>\n",
       "    </tr>\n",
       "    <tr>\n",
       "      <th>209578</th>\n",
       "      <td>596826</td>\n",
       "      <td>Murava</td>\n",
       "      <td>LT</td>\n",
       "      <td>{'lon': 23.966669, 'lat': 54.916672}</td>\n",
       "    </tr>\n",
       "  </tbody>\n",
       "</table>\n",
       "<p>209579 rows × 4 columns</p>\n",
       "</div>"
      ],
      "text/plain": [
       "             id              name country  \\\n",
       "0        707860            Hurzuf      UA   \n",
       "1        519188           Novinki      RU   \n",
       "2       1283378            Gorkhā      NP   \n",
       "3       1270260  State of Haryāna      IN   \n",
       "4        708546         Holubynka      UA   \n",
       "...         ...               ...     ...   \n",
       "209574  2613685         Skodsborg      DK   \n",
       "209575  2613357         Smidstrup      DK   \n",
       "209576  6460975           Rastnik      BG   \n",
       "209577   727762           Rastnik      BG   \n",
       "209578   596826            Murava      LT   \n",
       "\n",
       "                                       coord  \n",
       "0       {'lon': 34.283333, 'lat': 44.549999}  \n",
       "1       {'lon': 37.666668, 'lat': 55.683334}  \n",
       "2              {'lon': 84.633331, 'lat': 28}  \n",
       "3                     {'lon': 76, 'lat': 29}  \n",
       "4       {'lon': 33.900002, 'lat': 44.599998}  \n",
       "...                                      ...  \n",
       "209574   {'lon': 12.57324, 'lat': 55.822498}  \n",
       "209575   {'lon': 12.55787, 'lat': 55.865688}  \n",
       "209576  {'lon': 25.283331, 'lat': 41.400002}  \n",
       "209577  {'lon': 25.283331, 'lat': 41.400002}  \n",
       "209578  {'lon': 23.966669, 'lat': 54.916672}  \n",
       "\n",
       "[209579 rows x 4 columns]"
      ]
     },
     "execution_count": 41,
     "metadata": {},
     "output_type": "execute_result"
    }
   ],
   "source": [
    "city_list"
   ]
  },
  {
   "cell_type": "code",
   "execution_count": null,
   "metadata": {},
   "outputs": [],
   "source": []
  }
 ],
 "metadata": {
  "kernelspec": {
   "display_name": "Python 3",
   "language": "python",
   "name": "python3"
  },
  "language_info": {
   "codemirror_mode": {
    "name": "ipython",
    "version": 3
   },
   "file_extension": ".py",
   "mimetype": "text/x-python",
   "name": "python",
   "nbconvert_exporter": "python",
   "pygments_lexer": "ipython3",
   "version": "3.7.3"
  }
 },
 "nbformat": 4,
 "nbformat_minor": 2
}
